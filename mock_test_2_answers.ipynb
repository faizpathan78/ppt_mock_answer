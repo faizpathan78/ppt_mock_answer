{
 "cells": [
  {
   "cell_type": "code",
   "execution_count": 1,
   "id": "0c5c4792",
   "metadata": {},
   "outputs": [
    {
     "name": "stdout",
     "output_type": "stream",
     "text": [
      "2\n"
     ]
    }
   ],
   "source": [
    "#answer 1 \n",
    "def square_root(x):\n",
    "    if x == 0:\n",
    "        return 0\n",
    "\n",
    "    left = 1\n",
    "    right = x\n",
    "\n",
    "    while left <= right:\n",
    "        mid = (left + right) // 2\n",
    "        if mid * mid == x:\n",
    "            return mid\n",
    "        elif mid * mid < x:\n",
    "            left = mid + 1\n",
    "        else:\n",
    "            right = mid - 1\n",
    "\n",
    "    return right  \n",
    "\n",
    "\n",
    "print(square_root(4))\n"
   ]
  },
  {
   "cell_type": "code",
   "execution_count": 5,
   "id": "71172a4d",
   "metadata": {},
   "outputs": [
    {
     "name": "stdout",
     "output_type": "stream",
     "text": [
      "[7, 0, 8]\n"
     ]
    }
   ],
   "source": [
    "#answer 2\n",
    "class ListNode:\n",
    "    def __init__(self, val=0, next=None):\n",
    "        self.val = val\n",
    "        self.next = next\n",
    "\n",
    "def add(l1, l2):\n",
    "    dummy = ListNode(0) \n",
    "    current = dummy  \n",
    "\n",
    "    carry = 0 \n",
    "\n",
    "    while l1 or l2 or carry:\n",
    "        \n",
    "        val1 = l1.val if l1 else 0\n",
    "        val2 = l2.val if l2 else 0\n",
    "\n",
    "       \n",
    "        total = val1 + val2 + carry\n",
    "\n",
    "        \n",
    "        carry = total // 10\n",
    "\n",
    "        \n",
    "        current.next = ListNode(total % 10)\n",
    "        current = current.next\n",
    "\n",
    "        if l1:\n",
    "            l1 = l1.next\n",
    "        if l2:\n",
    "            l2 = l2.next\n",
    "\n",
    "    return dummy.next  \n",
    "\n",
    "def create_list(digits):\n",
    "    dummy = ListNode(0)\n",
    "    current = dummy\n",
    "    for digit in digits:\n",
    "        current.next = ListNode(digit)\n",
    "        current = current.next\n",
    "    return dummy.next\n",
    "\n",
    "\n",
    "def list_to_digits(head):\n",
    "    digits = []\n",
    "    current = head\n",
    "    while current:\n",
    "        digits.append(current.val)\n",
    "        current = current.next\n",
    "    return digits\n",
    "\n",
    "\n",
    "l1 = create_list([2, 4, 3])\n",
    "l2 = create_list([5, 6, 4])\n",
    "\n",
    "result = add(l1, l2)\n",
    "\n",
    "result_digits = list_to_digits(result)\n",
    "\n",
    "print(result_digits) \n"
   ]
  }
 ],
 "metadata": {
  "kernelspec": {
   "display_name": "Python 3 (ipykernel)",
   "language": "python",
   "name": "python3"
  },
  "language_info": {
   "codemirror_mode": {
    "name": "ipython",
    "version": 3
   },
   "file_extension": ".py",
   "mimetype": "text/x-python",
   "name": "python",
   "nbconvert_exporter": "python",
   "pygments_lexer": "ipython3",
   "version": "3.10.9"
  }
 },
 "nbformat": 4,
 "nbformat_minor": 5
}
